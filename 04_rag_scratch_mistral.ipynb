{
 "cells": [
  {
   "cell_type": "code",
   "execution_count": 2,
   "id": "de4b1e74",
   "metadata": {},
   "outputs": [
    {
     "name": "stdout",
     "output_type": "stream",
     "text": [
      "Collecting faiss-cpu\n",
      "  Downloading faiss_cpu-1.12.0-cp313-cp313-win_amd64.whl.metadata (5.2 kB)\n",
      "Requirement already satisfied: numpy<3.0,>=1.25.0 in c:\\users\\thoma\\documents\\repositories\\mistral-labs\\.venv\\lib\\site-packages (from faiss-cpu) (2.3.3)\n",
      "Requirement already satisfied: packaging in c:\\users\\thoma\\documents\\repositories\\mistral-labs\\.venv\\lib\\site-packages (from faiss-cpu) (25.0)\n",
      "Downloading faiss_cpu-1.12.0-cp313-cp313-win_amd64.whl (18.2 MB)\n",
      "   ---------------------------------------- 0.0/18.2 MB ? eta -:--:--\n",
      "   -------- ------------------------------- 3.9/18.2 MB 21.0 MB/s eta 0:00:01\n",
      "   ------------------ --------------------- 8.4/18.2 MB 20.6 MB/s eta 0:00:01\n",
      "   ------------------------------- -------- 14.4/18.2 MB 23.7 MB/s eta 0:00:01\n",
      "   ---------------------------------------- 18.2/18.2 MB 23.6 MB/s  0:00:00\n",
      "Installing collected packages: faiss-cpu\n",
      "Successfully installed faiss-cpu-1.12.0\n"
     ]
    }
   ],
   "source": [
    "! pip install faiss-cpu"
   ]
  },
  {
   "cell_type": "code",
   "execution_count": 3,
   "id": "935bcb7d",
   "metadata": {},
   "outputs": [],
   "source": [
    "from mistralai import Mistral\n",
    "import requests\n",
    "import numpy as np\n",
    "import faiss\n",
    "import os\n",
    "from getpass import getpass\n",
    "\n",
    "# api_key= getpass(\"Type your API Key\")\n",
    "api_key = os.getenv(\"MISTRAL_API_KEY\")\n",
    "client = Mistral(api_key=api_key)"
   ]
  },
  {
   "cell_type": "code",
   "execution_count": 4,
   "id": "a20df5cb",
   "metadata": {},
   "outputs": [],
   "source": [
    "f = open('sample_data/paul_graham_essay.txt', 'r')\n",
    "essay = f.read()\n",
    "f.close()"
   ]
  },
  {
   "cell_type": "code",
   "execution_count": 5,
   "id": "e2afd821",
   "metadata": {},
   "outputs": [
    {
     "data": {
      "text/plain": [
       "75039"
      ]
     },
     "execution_count": 5,
     "metadata": {},
     "output_type": "execute_result"
    }
   ],
   "source": [
    "len(essay)"
   ]
  },
  {
   "cell_type": "code",
   "execution_count": 6,
   "id": "dc7230e9",
   "metadata": {},
   "outputs": [],
   "source": [
    "# split the document(essay) into chunks \n",
    "chunk_size = 2048\n",
    "chunks = [essay[i:i+chunk_size] for i in range(0, len(essay), chunk_size)]"
   ]
  },
  {
   "cell_type": "code",
   "execution_count": 7,
   "id": "52593063",
   "metadata": {},
   "outputs": [
    {
     "data": {
      "text/plain": [
       "37"
      ]
     },
     "execution_count": 7,
     "metadata": {},
     "output_type": "execute_result"
    }
   ],
   "source": [
    "len(chunks)"
   ]
  },
  {
   "cell_type": "code",
   "execution_count": 12,
   "id": "e3580423",
   "metadata": {},
   "outputs": [],
   "source": [
    "# create embeddings for each chunk\n",
    "def get_text_embedding(input):\n",
    "    embeddings_batch_response = client.embeddings.create(\n",
    "        model=\"mistral-embed\",\n",
    "        inputs = input       \n",
    "    )\n",
    "    return embeddings_batch_response.data[0].embedding"
   ]
  },
  {
   "cell_type": "code",
   "execution_count": 13,
   "id": "01494b9d",
   "metadata": {},
   "outputs": [],
   "source": [
    "text_embeddings = np.array([get_text_embedding(chunk) for chunk in chunks]).astype(\"float32\")"
   ]
  },
  {
   "cell_type": "code",
   "execution_count": 14,
   "id": "2776b764",
   "metadata": {},
   "outputs": [
    {
     "data": {
      "text/plain": [
       "(37, 1024)"
      ]
     },
     "execution_count": 14,
     "metadata": {},
     "output_type": "execute_result"
    }
   ],
   "source": [
    "text_embeddings.shape"
   ]
  },
  {
   "cell_type": "code",
   "execution_count": 15,
   "id": "3e5cda32",
   "metadata": {},
   "outputs": [
    {
     "data": {
      "text/plain": [
       "array([-0.03839111,  0.07592773,  0.00132561, ..., -0.01730347,\n",
       "       -0.01808167, -0.00711441], shape=(1024,), dtype=float32)"
      ]
     },
     "execution_count": 15,
     "metadata": {},
     "output_type": "execute_result"
    }
   ],
   "source": [
    "text_embeddings[0]"
   ]
  },
  {
   "cell_type": "code",
   "execution_count": 16,
   "id": "25cb6325",
   "metadata": {},
   "outputs": [],
   "source": [
    "# storing the text embeddings in vector database\n",
    "d = text_embeddings.shape[1]  # dimension\n",
    "index = faiss.IndexFlatL2(d)  # build the index\n",
    "index.add(text_embeddings)  # add vectors to the index"
   ]
  },
  {
   "cell_type": "code",
   "execution_count": 17,
   "id": "86f009c1",
   "metadata": {},
   "outputs": [
    {
     "data": {
      "text/plain": [
       "(1, 1024)"
      ]
     },
     "execution_count": 17,
     "metadata": {},
     "output_type": "execute_result"
    }
   ],
   "source": [
    "question = \"What were the two main things the author worked on before college?\"\n",
    "question_embeddings = np.array([get_text_embedding(question)])\n",
    "question_embeddings.shape"
   ]
  },
  {
   "cell_type": "code",
   "execution_count": 18,
   "id": "839730e2",
   "metadata": {},
   "outputs": [
    {
     "data": {
      "text/plain": [
       "numpy.ndarray"
      ]
     },
     "execution_count": 18,
     "metadata": {},
     "output_type": "execute_result"
    }
   ],
   "source": [
    "type(question_embeddings)"
   ]
  },
  {
   "cell_type": "code",
   "execution_count": 19,
   "id": "97d01f22",
   "metadata": {},
   "outputs": [
    {
     "name": "stdout",
     "output_type": "stream",
     "text": [
      "[[ 0  3 11]]\n"
     ]
    }
   ],
   "source": [
    "# retrive top 3 similar chunks from the vector database\n",
    "D, I = index.search(question_embeddings.astype(\"float32\"), k=3)  # actual search\n",
    "print(I)"
   ]
  },
  {
   "cell_type": "code",
   "execution_count": null,
   "id": "fb2e7367",
   "metadata": {},
   "outputs": [],
   "source": [
    "# D is the dimension of the text embeddings. It represents the number of features in each embedding vector. In this case, it is obtained from the shape of the text_embeddings array, specifically the second dimension (number of columns) which corresponds to the size of each embedding vector.\n",
    "# I is a 2D array containing the indices of the top k (in this case, 3) nearest neighbor vectors in the index for each query vector. Each row corresponds to a query vector, and each column contains the index of one of the nearest neighbors in the original dataset."
   ]
  },
  {
   "cell_type": "code",
   "execution_count": 21,
   "id": "9f912825",
   "metadata": {},
   "outputs": [],
   "source": [
    "retrieved_chunks = [chunks[i] for i in I[0]]"
   ]
  },
  {
   "cell_type": "code",
   "execution_count": 23,
   "id": "9a3f5da7",
   "metadata": {},
   "outputs": [],
   "source": [
    "# retrieved_chunks"
   ]
  },
  {
   "cell_type": "code",
   "execution_count": 24,
   "id": "95e97b6a",
   "metadata": {},
   "outputs": [],
   "source": [
    "# answer the user query using the retrieved chunks as context\n",
    "context = \"\\n\".join(retrieved_chunks)\n",
    "prompt = f\"Answer the question based on the context below.\\n\\nContext: {context}\\n\\nQuestion: {question}\\n\\nAnswer:\"\n",
    "\n",
    "\n",
    "def run_mistral(user_message,model=\"mistral-tiny\"):\n",
    "    message = [\n",
    "        {\n",
    "            'role':'user',\n",
    "            'content':user_message\n",
    "        }\n",
    "    ]\n",
    "    chat_response = client.chat.complete(\n",
    "        model=model,\n",
    "        messages = message\n",
    "    )\n",
    "    return chat_response.choices[0].message.content"
   ]
  },
  {
   "cell_type": "code",
   "execution_count": 25,
   "id": "9325c69c",
   "metadata": {},
   "outputs": [
    {
     "data": {
      "text/plain": [
       "'The two main things the author worked on before college were writing short stories and programming on the IBM 1401 computer.'"
      ]
     },
     "execution_count": 25,
     "metadata": {},
     "output_type": "execute_result"
    }
   ],
   "source": [
    "run_mistral(prompt)"
   ]
  },
  {
   "cell_type": "code",
   "execution_count": null,
   "id": "a10096c8",
   "metadata": {},
   "outputs": [],
   "source": []
  },
  {
   "cell_type": "code",
   "execution_count": null,
   "id": "5d869286",
   "metadata": {},
   "outputs": [],
   "source": []
  }
 ],
 "metadata": {
  "kernelspec": {
   "display_name": ".venv",
   "language": "python",
   "name": "python3"
  },
  "language_info": {
   "codemirror_mode": {
    "name": "ipython",
    "version": 3
   },
   "file_extension": ".py",
   "mimetype": "text/x-python",
   "name": "python",
   "nbconvert_exporter": "python",
   "pygments_lexer": "ipython3",
   "version": "3.13.7"
  }
 },
 "nbformat": 4,
 "nbformat_minor": 5
}
