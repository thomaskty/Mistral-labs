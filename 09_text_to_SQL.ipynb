{
 "cells": [
  {
   "cell_type": "code",
   "execution_count": 1,
   "id": "25e22b01-e2bb-4152-ae69-c2dfaf5c9c3f",
   "metadata": {
    "id": "43a1ca17-0d28-4ecf-97f3-358be21059bd"
   },
   "outputs": [],
   "source": [
    "from mistralai import Mistral\n",
    "from getpass import getpass\n",
    "\n",
    "# To interract with the SQL database\n",
    "from langchain_community.utilities import SQLDatabase"
   ]
  },
  {
   "cell_type": "code",
   "execution_count": 2,
   "id": "8d67c402-c6ab-4d6e-b3a2-e7d0f2a357bb",
   "metadata": {
    "id": "43a1ca17-0d28-4ecf-97f3-358be21059bd"
   },
   "outputs": [],
   "source": [
    "# To evaluate text2SQL performances\n",
    "from deepeval.models import DeepEvalBaseLLM\n",
    "from deepeval.test_case import LLMTestCase, LLMTestCaseParams\n",
    "from deepeval.dataset import EvaluationDataset\n",
    "from deepeval.metrics import GEval\n",
    "\n",
    "import json"
   ]
  },
  {
   "cell_type": "code",
   "execution_count": 13,
   "id": "1768f764-3bac-4e15-b090-fc4e04d94c2c",
   "metadata": {
    "colab": {
     "base_uri": "https://localhost:8080/"
    },
    "id": "1768f764-3bac-4e15-b090-fc4e04d94c2c",
    "outputId": "88c23196-2587-4f67-fe95-4d23828d7207"
   },
   "outputs": [],
   "source": [
    "import os \n",
    "import psycopg2\n",
    "import psycopg2.extras\n",
    "from dotenv import load_dotenv\n",
    "load_dotenv()\n",
    "\n",
    "api_key = os.getenv(\"MISTRAL_API_KEY\")\n",
    "DB_USER = os.getenv(\"DB_USER\")\n",
    "DB_PASSWORD = os.getenv(\"DB_PASSWORD\")\n",
    "DB_HOST = os.getenv(\"DB_HOST\")\n",
    "DB_PORT = os.getenv(\"DB_PORT\")\n",
    "\n",
    "client = Mistral(api_key=api_key)"
   ]
  },
  {
   "cell_type": "code",
   "execution_count": 30,
   "id": "cfede720",
   "metadata": {},
   "outputs": [],
   "source": [
    "# create a function run_sql_query that takes a sql_code as input and returns the result of the query \n",
    "# (using postgresql and psycopg2)\n",
    "\n",
    "def run_sql_query(sql_code):\n",
    "    try:\n",
    "        # Connect to the PostgreSQL database\n",
    "        conn = psycopg2.connect(\n",
    "            dbname=\"chinbook\",\n",
    "            user=os.getenv(\"DB_USER\")   ,\n",
    "            password=os.getenv(\"DB_PASSWORD\"),\n",
    "            host=os.getenv(\"DB_HOST\"),\n",
    "            port=os.getenv(\"DB_PORT\")\n",
    "        )\n",
    "        cursor = conn.cursor()\n",
    "        cursor.execute(sql_code)\n",
    "        result = cursor.fetchall()\n",
    "        conn.commit()\n",
    "        return result\n",
    "    except Exception as e:\n",
    "        print(f\"Error: {e}\")\n",
    "    finally:\n",
    "        if cursor:\n",
    "            cursor.close()\n",
    "        if conn:\n",
    "            conn.close()\n",
    "\n",
    "def run_sql_query(sql_code):\n",
    "    \"\"\"Execute SQL and return results as a string suitable for Mistral tool.\"\"\"\n",
    "    try:\n",
    "        conn = psycopg2.connect(\n",
    "            dbname=\"chinbook\",\n",
    "            user=os.getenv(\"DB_USER\"),\n",
    "            password=os.getenv(\"DB_PASSWORD\"),\n",
    "            host=os.getenv(\"DB_HOST\"),\n",
    "            port=os.getenv(\"DB_PORT\")\n",
    "        )\n",
    "        cursor = conn.cursor()\n",
    "        cursor.execute(sql_code)\n",
    "        try:\n",
    "            result = cursor.fetchall()  # returns list of tuples\n",
    "            # Convert to readable string\n",
    "            result_str = \"\\n\".join([\", \".join(map(str, row)) for row in result])\n",
    "        except psycopg2.ProgrammingError:\n",
    "            result_str = \"\"  # no results to fetch\n",
    "\n",
    "        # Commit if modifying\n",
    "        if sql_code.strip().lower().startswith(\n",
    "            (\"insert\", \"update\", \"delete\", \"create\", \"drop\", \"alter\")\n",
    "        ):\n",
    "            conn.commit()\n",
    "\n",
    "        return result_str\n",
    "\n",
    "    except Exception as e:\n",
    "        return f\"Error: {e}\"\n",
    "    finally:\n",
    "        if cursor:\n",
    "            cursor.close()\n",
    "        if conn:\n",
    "            conn.close()\n",
    "\n"
   ]
  },
  {
   "cell_type": "code",
   "execution_count": 31,
   "id": "2a186021-474d-4754-b585-0688f2d4bf38",
   "metadata": {
    "colab": {
     "base_uri": "https://localhost:8080/",
     "height": 53
    },
    "id": "2a186021-474d-4754-b585-0688f2d4bf38",
    "outputId": "d0841348-aa89-43f8-d3e8-ad50ec53f1d2"
   },
   "outputs": [
    {
     "data": {
      "text/plain": [
       "'1, AC/DC\\n2, Accept\\n3, Aerosmith\\n4, Alanis Morissette\\n5, Alice In Chains\\n6, Antônio Carlos Jobim\\n7, Apocalyptica\\n8, Audioslave\\n9, BackBeat\\n10, Billy Cobham'"
      ]
     },
     "execution_count": 31,
     "metadata": {},
     "output_type": "execute_result"
    }
   ],
   "source": [
    "run_sql_query(\"SELECT * FROM Artist LIMIT 10;\")"
   ]
  },
  {
   "cell_type": "code",
   "execution_count": 24,
   "id": "cb801fba",
   "metadata": {},
   "outputs": [],
   "source": [
    "def get_sql_schema_of_table(table_name):\n",
    "    \"\"\"\n",
    "    Return the CREATE TABLE statement of a table including PK and FK,\n",
    "    or a message if the table does not exist.\n",
    "    \"\"\"\n",
    "    try:\n",
    "        conn = psycopg2.connect(\n",
    "            dbname=\"chinbook\",\n",
    "            user=DB_USER,\n",
    "            password=DB_PASSWORD,\n",
    "            host=DB_HOST,\n",
    "            port=DB_PORT\n",
    "        )\n",
    "        cur = conn.cursor()\n",
    "\n",
    "        table_name_lower = table_name.lower()\n",
    "\n",
    "        # Step 1: Check if table exists\n",
    "        cur.execute(\"\"\"\n",
    "            SELECT EXISTS (\n",
    "                SELECT 1\n",
    "                FROM information_schema.tables\n",
    "                WHERE table_schema='public'\n",
    "                  AND table_name=%s\n",
    "            );\n",
    "        \"\"\", (table_name_lower,))\n",
    "        exists = cur.fetchone()[0]\n",
    "\n",
    "        if not exists:\n",
    "            return f\"The table '{table_name}' is not in the database.\"\n",
    "\n",
    "        # Step 2: Get column definitions\n",
    "        cur.execute(\"\"\"\n",
    "            SELECT \n",
    "                column_name, \n",
    "                data_type, \n",
    "                character_maximum_length, \n",
    "                is_nullable\n",
    "            FROM information_schema.columns\n",
    "            WHERE table_name = %s\n",
    "            ORDER BY ordinal_position;\n",
    "        \"\"\", (table_name_lower,))\n",
    "        columns = cur.fetchall()\n",
    "\n",
    "        # Step 3: Get primary key constraints\n",
    "        cur.execute(\"\"\"\n",
    "            SELECT kcu.column_name\n",
    "            FROM information_schema.table_constraints tc\n",
    "            JOIN information_schema.key_column_usage kcu\n",
    "              ON tc.constraint_name = kcu.constraint_name\n",
    "            WHERE tc.table_name=%s\n",
    "              AND tc.constraint_type='PRIMARY KEY';\n",
    "        \"\"\", (table_name_lower,))\n",
    "        pk_columns = [row[0] for row in cur.fetchall()]\n",
    "\n",
    "        # Step 4: Get foreign key constraints\n",
    "        cur.execute(\"\"\"\n",
    "            SELECT \n",
    "                kcu.column_name,\n",
    "                ccu.table_name AS foreign_table_name,\n",
    "                ccu.column_name AS foreign_column_name,\n",
    "                rc.update_rule,\n",
    "                rc.delete_rule\n",
    "            FROM information_schema.table_constraints tc\n",
    "            JOIN information_schema.key_column_usage kcu\n",
    "              ON tc.constraint_name = kcu.constraint_name\n",
    "            JOIN information_schema.referential_constraints rc\n",
    "              ON tc.constraint_name = rc.constraint_name\n",
    "            JOIN information_schema.constraint_column_usage ccu\n",
    "              ON rc.unique_constraint_name = ccu.constraint_name\n",
    "            WHERE tc.table_name = %s\n",
    "              AND tc.constraint_type='FOREIGN KEY';\n",
    "        \"\"\", (table_name_lower,))\n",
    "        fks = cur.fetchall()\n",
    "\n",
    "        # Step 5: Build CREATE TABLE statement\n",
    "        lines = []\n",
    "        for col_name, data_type, char_len, is_nullable in columns:\n",
    "            if data_type == \"character varying\" and char_len:\n",
    "                col_type = f\"NVARCHAR({char_len})\"\n",
    "            elif data_type == \"integer\":\n",
    "                col_type = \"INTEGER\"\n",
    "            else:\n",
    "                col_type = data_type.upper()\n",
    "\n",
    "            null_str = \"\" if is_nullable == \"NO\" else \"NULL\"\n",
    "            lines.append(f\"    [{col_name}] {col_type} {null_str}\".strip())\n",
    "\n",
    "        # Add primary key\n",
    "        if pk_columns:\n",
    "            lines.append(f\"    CONSTRAINT [PK_{table_name}] PRIMARY KEY ({', '.join(f'[{c}]' for c in pk_columns)})\")\n",
    "\n",
    "        # Add foreign keys\n",
    "        for col, ref_table, ref_col, update_rule, delete_rule in fks:\n",
    "            lines.append(f\"    FOREIGN KEY ([{col}]) REFERENCES [{ref_table}] ([{ref_col}])\"\n",
    "                         f\" ON DELETE {delete_rule} ON UPDATE {update_rule}\")\n",
    "\n",
    "        create_stmt = f\"CREATE TABLE [{table_name}]\\n(\\n\" + \",\\n\".join(lines) + \"\\n);\"\n",
    "\n",
    "        return f\"The table {table_name} was created with the following code :\\n\\n{create_stmt}\"\n",
    "\n",
    "    except Exception as e:\n",
    "        return f\"Error: {e}\"\n",
    "    finally:\n",
    "        if cur:\n",
    "            cur.close()\n",
    "        if conn:\n",
    "            conn.close()"
   ]
  },
  {
   "cell_type": "code",
   "execution_count": 25,
   "id": "8d426b17",
   "metadata": {},
   "outputs": [
    {
     "name": "stdout",
     "output_type": "stream",
     "text": [
      "The table Album was created with the following code :\n",
      "\n",
      "CREATE TABLE [Album]\n",
      "(\n",
      "[album_id] INTEGER,\n",
      "[title] NVARCHAR(160),\n",
      "[artist_id] INTEGER,\n",
      "    CONSTRAINT [PK_Album] PRIMARY KEY ([album_id]),\n",
      "    FOREIGN KEY ([artist_id]) REFERENCES [artist] ([artist_id]) ON DELETE NO ACTION ON UPDATE NO ACTION\n",
      ");\n",
      "The table Artist was created with the following code :\n",
      "\n",
      "CREATE TABLE [Artist]\n",
      "(\n",
      "[artist_id] INTEGER,\n",
      "[name] NVARCHAR(120) NULL,\n",
      "    CONSTRAINT [PK_Artist] PRIMARY KEY ([artist_id])\n",
      ");\n",
      "The table 'NonExistingTable' is not in the database.\n"
     ]
    }
   ],
   "source": [
    "# Example usage\n",
    "print(get_sql_schema_of_table(\"Album\"))\n",
    "print(get_sql_schema_of_table(\"Artist\"))\n",
    "print(get_sql_schema_of_table(\"NonExistingTable\"))"
   ]
  },
  {
   "cell_type": "markdown",
   "id": "06eb23c7-e5c6-433e-8ab3-45444911eab0",
   "metadata": {
    "id": "06eb23c7-e5c6-433e-8ab3-45444911eab0"
   },
   "source": [
    "# Build agent"
   ]
  },
  {
   "cell_type": "code",
   "execution_count": 36,
   "id": "cc76a90f-83d8-4d77-8713-6460afcdfd62",
   "metadata": {
    "id": "cc76a90f-83d8-4d77-8713-6460afcdfd62"
   },
   "outputs": [],
   "source": [
    "def get_response(question, verbose=True):\n",
    "    \"\"\"\n",
    "    Answer question about the Chinook database.\n",
    "\n",
    "    Args:\n",
    "        question (str): The question asked by the user.\n",
    "        verbose (bool): If True, prints intermediate steps and results.\n",
    "\n",
    "    Returns:\n",
    "        str: The response to the user's question.\n",
    "    \"\"\"\n",
    "\n",
    "    # Define the tools available for the AI assistant\n",
    "    tools = [\n",
    "        {\n",
    "            \"type\": \"function\",\n",
    "            \"function\": {\n",
    "                \"name\": \"get_sql_schema_of_table\",\n",
    "                \"description\": \"Get the schema of a table in the Chinook database\",\n",
    "                \"parameters\": {\n",
    "                    \"type\": \"object\",\n",
    "                    \"properties\": {\n",
    "                        \"table\": {\n",
    "                            \"type\": \"string\",\n",
    "                            \"enum\": [\"Album\", \"Artist\", \"Customer\", \"Employee\", \"Genre\", \"Invoice\", \"InvoiceLine\", \"MediaType\", \"Playlist\", \"PlaylistTrack\", \"Track\"],\n",
    "                            \"description\": \"The question asked by the user\",\n",
    "                        },\n",
    "                    },\n",
    "                    \"required\": [\"table\"],\n",
    "                },\n",
    "            },\n",
    "        },\n",
    "        {\n",
    "            \"type\": \"function\",\n",
    "            \"function\": {\n",
    "                \"name\": \"run_sql_query\",\n",
    "                \"description\": \"Run an SQL query on the Chinook database\",\n",
    "                \"parameters\": {\n",
    "                    \"type\": \"object\",\n",
    "                    \"properties\": {\n",
    "                        \"sql_code\": {\n",
    "                            \"type\": \"string\",\n",
    "                            \"description\": \"SQL code to be run\",\n",
    "                        },\n",
    "                    },\n",
    "                    \"required\": [\"sql_code\"],\n",
    "                },\n",
    "            },\n",
    "        }\n",
    "    ]\n",
    "\n",
    "    # System prompt for the AI assistant\n",
    "    system_prompt = \"\"\"\n",
    "    You are an AI assistant.\n",
    "    Your job is to reply to questions related to the Chinook database.\n",
    "    The Chinook data model represents a digital media store, including tables for artists, albums, media tracks, invoices, and customers.\n",
    "\n",
    "    To answer user questions, you have two tools at your disposal.\n",
    "\n",
    "    Firstly, a function called \"get_sql_schema_of_table\" which has a single parameter named \"table\" whose value is an element\n",
    "    of the following list: [\"Album\", \"Artist\", \"Customer\", \"Employee\", \"Genre\", \"Invoice\", \"InvoiceLine\", \"MediaType\", \"Playlist\", \"PlaylistTrack\", \"Track\"].\n",
    "\n",
    "    Secondly, a function called \"run_sql_query\" which has a single parameter named \"sql_code\".\n",
    "    It will run SQL code on the Chinook database. The SQL dialect is SQLite.\n",
    "\n",
    "    For a given question, your job is to:\n",
    "    1. Get the schemas of the tables that might help you answer the question using the \"get_sql_schema_of_table\" function.\n",
    "    2. Run a SQLite query on the relevant tables using the \"run_sql_query\" function.\n",
    "    3. Answer the user based on the result of the SQL query.\n",
    "\n",
    "    You will always remain factual, you will not hallucinate, and you will say that you don't know if you don't know.\n",
    "    You will politely ask the user to shoot another question if the question is not related to the Chinook database.\n",
    "    \"\"\"\n",
    "\n",
    "    # Initialize chat history with system prompt and user question\n",
    "    chat_history = [\n",
    "        {\"role\": \"system\",\"content\": system_prompt},\n",
    "        {\"role\": \"user\",\"content\": question}\n",
    "    ]\n",
    "\n",
    "    if verbose:\n",
    "        print(f\"User: {question}\\n\")\n",
    "\n",
    "    used_run_sql = False\n",
    "    used_get_sql_schema_of_table = False\n",
    "\n",
    "    # Function to determine tool choice based on usage\n",
    "    def tool_choice(used_run_sql, used_get_sql_schema_of_table):\n",
    "        # If the question is out of topic the agent is not expected to run a tool call\n",
    "        if not used_get_sql_schema_of_table:\n",
    "            return \"auto\"\n",
    "        # The agent is expected to run \"used_run_sql\" after getting the specifications of the tables of interest\n",
    "        if used_get_sql_schema_of_table and not used_run_sql:\n",
    "            return \"any\"\n",
    "        # The agent is not expected to run a tool call after querying the SQL table\n",
    "        if used_run_sql and used_get_sql_schema_of_table:\n",
    "            return \"none\"\n",
    "        return \"auto\"\n",
    "\n",
    "    iteration = 0\n",
    "    max_iteration = 10\n",
    "\n",
    "    # Main loop to process the question\n",
    "    while iteration < max_iteration:\n",
    "        inference = client.chat.complete(\n",
    "            model=\"mistral-tiny\",\n",
    "            temperature=0.3,\n",
    "            messages=chat_history,\n",
    "            tools=tools,\n",
    "            tool_choice=tool_choice(used_run_sql, used_get_sql_schema_of_table)\n",
    "        )\n",
    "\n",
    "        chat_history.append(inference.choices[0].message)\n",
    "\n",
    "        tool_calls = inference.choices[0].message.tool_calls\n",
    "\n",
    "        if not tool_calls:\n",
    "            if verbose:\n",
    "                print(f\"Assistant: {inference.choices[0].message.content}\\n\")\n",
    "            return inference.choices[0].message.content\n",
    "\n",
    "        for tool_call in tool_calls:\n",
    "            function_name = tool_call.function.name\n",
    "            function_params = json.loads(tool_call.function.arguments)\n",
    "\n",
    "            if function_name == \"get_sql_schema_of_table\":\n",
    "                function_result = get_sql_schema_of_table(function_params['table'])\n",
    "                if verbose:\n",
    "                    print(f\"Tool: Getting SQL schema of table {function_params['table']}\\n\")\n",
    "                used_get_sql_schema_of_table = True\n",
    "\n",
    "            if function_name == \"run_sql_query\":\n",
    "                function_result = run_sql_query(function_params['sql_code'])\n",
    "                if verbose:\n",
    "                    print(f\"Tool: Running code {function_params['sql_code']}\\n\")\n",
    "                used_run_sql = True\n",
    "\n",
    "            chat_history.append({\"role\": \"tool\", \"name\": function_name, \"content\": function_result, \"tool_call_id\": tool_call.id})\n",
    "\n",
    "        iteration += 1\n",
    "    return"
   ]
  },
  {
   "cell_type": "markdown",
   "id": "e63c99a7-7dd0-4b94-87d0-b61b0436bba0",
   "metadata": {
    "id": "e63c99a7-7dd0-4b94-87d0-b61b0436bba0"
   },
   "source": [
    "# Test the agent\n",
    "\n",
    "Let's test the agent and ask a few random questions of increasing complexity"
   ]
  },
  {
   "cell_type": "code",
   "execution_count": 32,
   "id": "7441fad2-88e8-43cb-8e9a-0a90722ca2ab",
   "metadata": {
    "colab": {
     "base_uri": "https://localhost:8080/"
    },
    "id": "7441fad2-88e8-43cb-8e9a-0a90722ca2ab",
    "outputId": "8983dd7c-dbec-4a5a-fe6f-d9a9a04f0023"
   },
   "outputs": [
    {
     "name": "stdout",
     "output_type": "stream",
     "text": [
      "User: What is the oldest player in the NBA?\n",
      "\n",
      "Assistant: The Chinook database does not contain any information about the NBA or its players. Could you please ask a question related to the Chinook database?\n",
      "\n"
     ]
    }
   ],
   "source": [
    "# Lets start by checking how the model reacts with out of topic questions!\n",
    "response = get_response('What is the oldest player in the NBA?')"
   ]
  },
  {
   "cell_type": "code",
   "execution_count": 39,
   "id": "c871ab51-f08b-4fe4-83ce-5636fba29935",
   "metadata": {
    "colab": {
     "base_uri": "https://localhost:8080/"
    },
    "id": "c871ab51-f08b-4fe4-83ce-5636fba29935",
    "outputId": "c32400d3-81a9-4587-9a3c-1646e375b904"
   },
   "outputs": [
    {
     "name": "stdout",
     "output_type": "stream",
     "text": [
      "User: What are the names of the genres in the store?\n",
      "\n",
      "Assistant: To find the names of the genres in the store, I will use the \"get_sql_schema_of_table\" function to get the schema of the \"Genre\" table and then run a SQL query to extract the genre names.\n",
      "\n",
      "```\n",
      "[{\"name\": \"get_sql_schema_of_table\", \"arguments\": {\"table\": \"Genre\"}}, {\"name\": \"run_sql_query\", \"arguments\": {\"sql_code\": \"SELECT name FROM Genre\"}}]\n",
      "```\n",
      "\n",
      "After running the above code, the result will be a list of genre names in the store. I will then present the list to you.\n",
      "\n"
     ]
    }
   ],
   "source": [
    "response = get_response('What are the names of the genres in the store?')"
   ]
  },
  {
   "cell_type": "code",
   "execution_count": 40,
   "id": "c7c9d0e3-4728-48d2-9bc1-0c9d879aaa61",
   "metadata": {
    "colab": {
     "base_uri": "https://localhost:8080/"
    },
    "id": "c7c9d0e3-4728-48d2-9bc1-0c9d879aaa61",
    "outputId": "88fe718d-4d63-49d1-8aa5-28f19b825583"
   },
   "outputs": [
    {
     "name": "stdout",
     "output_type": "stream",
     "text": [
      "User: What are the albums of the rock band U2?\n",
      "\n",
      "Assistant: To answer your question, I will first get the schema of the \"Album\" table and the \"Artist\" table. Then, I will run a SQL query to find the albums of the rock band U2.\n",
      "\n",
      "```\n",
      "[{\"name\": \"get_sql_schema_of_table\", \"arguments\": {\"table\": \"Album\"}}, {\"name\": \"get_sql_schema_of_table\", \"arguments\": {\"table\": \"Artist\"}}, {\"name\": \"run_sql_query\", \"arguments\": {\"sql_code\": \"SELECT Album.AlbumId, Album.Title FROM Album JOIN Artist ON Album.ArtistId = Artist.ArtistId WHERE Artist.Name = 'U2'\"}}]\n",
      "```\n",
      "\n",
      "The result of the SQL query will provide the albums of the rock band U2.\n",
      "\n"
     ]
    }
   ],
   "source": [
    "response = get_response('What are the albums of the rock band U2?')"
   ]
  },
  {
   "cell_type": "code",
   "execution_count": 41,
   "id": "7da7d15c-0a93-42ac-8159-9eac3e33dc85",
   "metadata": {
    "colab": {
     "base_uri": "https://localhost:8080/"
    },
    "id": "7da7d15c-0a93-42ac-8159-9eac3e33dc85",
    "outputId": "8faffab2-3a91-4946-9c97-4b4c2f9aa274"
   },
   "outputs": [
    {
     "name": "stdout",
     "output_type": "stream",
     "text": [
      "User: What is the shortest song that the rock band U2 ever composed?\n",
      "\n",
      "Assistant: To answer this question, I will first need to get the schema of the \"Track\" table and then find the song composed by U2 with the shortest duration. Here's how I'll do it:\n",
      "\n",
      "```\n",
      "    [{\"name\": \"get_sql_schema_of_table\", \"arguments\": {\"table\": \"Track\"}}]\n",
      "```\n",
      "\n",
      "After getting the schema, I'll write an SQL query to find the shortest song by U2. Here's the SQL code:\n",
      "\n",
      "```\n",
      "    [{\"name\": \"run_sql_query\", \"arguments\": {\"sql_code\": \"SELECT duration, track_id FROM Track, Artist WHERE Track.Artist_id = Artist.Artist_id AND Artist.Name = 'U2' ORDER BY duration ASC LIMIT 1\"}}]\n",
      "```\n",
      "\n",
      "This query will return the ID of the shortest song by U2. To get the song title, I'll need to run another query:\n",
      "\n",
      "```\n",
      "    [{\"name\": \"run_sql_query\", \"arguments\": {\"sql_code\": \"SELECT Title FROM Track WHERE track_id = ...\"}}]\n",
      "```\n",
      "\n",
      "Replace the dots with the ID returned from the previous query.\n",
      "\n",
      "Finally, I'll return the shortest song by U2 along with its duration.\n",
      "\n",
      "Please note that this is just a plan of action. I don't have the ability to execute these queries or store the results.\n",
      "\n",
      "Here's the final answer:\n",
      "\n",
      "The shortest song that the rock band U2 ever composed is [song title] with a duration of [duration].\n",
      "\n"
     ]
    }
   ],
   "source": [
    "response = get_response('What is the shortest song that the rock band U2 ever composed?')"
   ]
  },
  {
   "cell_type": "code",
   "execution_count": 42,
   "id": "13ea678c-e262-420d-9725-e6573a9d5720",
   "metadata": {
    "colab": {
     "base_uri": "https://localhost:8080/"
    },
    "id": "13ea678c-e262-420d-9725-e6573a9d5720",
    "outputId": "b1201719-4c3f-46de-f7ba-9c9ff5ca14bb"
   },
   "outputs": [
    {
     "name": "stdout",
     "output_type": "stream",
     "text": [
      "User: Which track from U2 is the most sold?\n",
      "\n",
      "Assistant: To answer this question, I will need to find the track with the highest sales count from the \"Track\" table, joined with the \"InvoiceLine\" and \"Invoice\" tables. Here's the SQL query I will run:\n",
      "\n",
      "```sql\n",
      "SELECT Track.Name, Track.Milliseconds, Track.UnitPrice\n",
      "FROM Track\n",
      "JOIN InvoiceLine ON Track.TrackId = InvoiceLine.TrackId\n",
      "JOIN Invoice ON InvoiceLine.InvoiceId = Invoice.InvoiceId\n",
      "WHERE Track.Name IN (\n",
      "    SELECT Name FROM Album\n",
      "    JOIN Artist ON Album.ArtistId = Artist.ArtistId\n",
      "    WHERE Artist.Name = 'U2'\n",
      ")\n",
      "GROUP BY Track.Name\n",
      "ORDER BY SUM(InvoiceLine.Quantity) DESC\n",
      "LIMIT 1;\n",
      "```\n",
      "\n",
      "This query first finds the album(s) by the artist 'U2', then it finds the tracks on those albums, and finally, it groups the tracks by their name, sums the quantity of each track sold, and orders the results in descending order. The top result will be the most sold track from U2.\n",
      "\n",
      "Now, I will run this query using the \"run_sql_query\" function:\n",
      "\n",
      "[{\"name\": \"run_sql_query\", \"arguments\": {\"sql_code\": \"SELECT Track.Name, Track.Milliseconds, Track.UnitPrice FROM Track JOIN InvoiceLine ON Track.TrackId = InvoiceLine.TrackId JOIN Invoice ON InvoiceLine.InvoiceId = Invoice.InvoiceId WHERE Track.Name IN ( SELECT Name FROM Album JOIN Artist ON Album.ArtistId = Artist.ArtistId WHERE Artist.Name = 'U2' ) GROUP BY Track.Name ORDER BY SUM(InvoiceLine.Quantity) DESC LIMIT 1;\"}}]\n",
      "\n",
      "After the query has run, I will analyze the result and provide the most sold track from U2.\n",
      "\n"
     ]
    }
   ],
   "source": [
    "response = get_response('Which track from U2 is the most sold?')"
   ]
  },
  {
   "cell_type": "code",
   "execution_count": 43,
   "id": "b8f08dc7-2157-4ad6-82c5-6e80a8babdcc",
   "metadata": {
    "colab": {
     "base_uri": "https://localhost:8080/"
    },
    "id": "b8f08dc7-2157-4ad6-82c5-6e80a8babdcc",
    "outputId": "d4acb20a-5a88-4cd5-e59f-7ffb56fa78a2"
   },
   "outputs": [
    {
     "name": "stdout",
     "output_type": "stream",
     "text": [
      "User: Which consumer bought the biggest amound of U2 songs?\n",
      "\n",
      "Assistant: To find the consumer who bought the most U2 songs, I would first need to know the table names and the columns that contain the consumer information and the song information.\n",
      "\n",
      "Let's assume that the \"InvoiceLine\" table contains the information about the songs and the \"Customer\" table contains the consumer information.\n",
      "\n",
      "The \"InvoiceLine\" table schema might look like this:\n",
      "\n",
      "```\n",
      "InvoiceLine (InvoiceLineID, InvoiceID, TrackID, Quantity, UnitPrice, Discount)\n",
      "```\n",
      "\n",
      "The \"Customer\" table schema might look like this:\n",
      "\n",
      "```\n",
      "Customer (CustomerID, FirstName, LastName, Company, ContactName, ContactTitle, Address, City, Region, PostalCode, Country, Phone, Fax)\n",
      "```\n",
      "\n",
      "To find the consumer who bought the most U2 songs, I would first need to find the TrackID(s) for U2 songs. Then, I would find the InvoiceLine records for those TrackID(s) and count the number of records for each customer.\n",
      "\n",
      "Here's the SQL code to find the TrackID(s) for U2 songs:\n",
      "\n",
      "```sql\n",
      "SELECT TrackID\n",
      "FROM Track\n",
      "WHERE Name = 'U2';\n",
      "```\n",
      "\n",
      "After getting the TrackID(s), I would use the following SQL code to find the consumers who bought the most U2 songs:\n",
      "\n",
      "```sql\n",
      "SELECT Customer.CustomerID, COUNT(InvoiceLine.InvoiceLineID) as NumberOfU2Songs\n",
      "FROM Customer\n",
      "JOIN InvoiceLine ON Customer.CustomerID = InvoiceLine.CustomerID\n",
      "JOIN Track ON InvoiceLine.TrackID = Track.TrackID\n",
      "WHERE Track.Name = 'U2'\n",
      "GROUP BY Customer.CustomerID\n",
      "ORDER BY NumberOfU2Songs DESC\n",
      "LIMIT 1;\n",
      "```\n",
      "\n",
      "This code will return the CustomerID of the consumer who bought the most U2 songs. To get the name of the consumer, I would need to run another SQL query using the returned CustomerID:\n",
      "\n",
      "```sql\n",
      "SELECT FirstName, LastName\n",
      "FROM Customer\n",
      "WHERE CustomerID = <the CustomerID returned from the previous query>;\n",
      "```\n",
      "\n"
     ]
    }
   ],
   "source": [
    "response = get_response('Which consumer bought the biggest amound of U2 songs?')"
   ]
  },
  {
   "cell_type": "code",
   "execution_count": 44,
   "id": "b09892eb-aedf-4dd5-8ada-99a111c13e38",
   "metadata": {
    "colab": {
     "base_uri": "https://localhost:8080/"
    },
    "id": "b09892eb-aedf-4dd5-8ada-99a111c13e38",
    "outputId": "3a280ded-7373-4a6a-fe8d-2962eed6b85c"
   },
   "outputs": [
    {
     "name": "stdout",
     "output_type": "stream",
     "text": [
      "User: List all artist that have a color in their name\n",
      "\n",
      "Assistant: To find all artists with a color in their name, we will first need to know the column that contains the artist name in the Artist table. Let's get the schema of the Artist table.\n",
      "\n",
      "```javascript\n",
      "const artistSchema = get_sql_schema_of_table(\"Artist\");\n",
      "```\n",
      "\n",
      "From the schema, we can see that the column containing the artist name is \"Name\". Now, we can write an SQL query to find artists with a color in their name.\n",
      "\n",
      "```javascript\n",
      "const sqlCode = `SELECT Name FROM Artist WHERE Name LIKE '%[A-Za-z]%[A-Za-z0-9]%[ ,.]%[Rr]%[Ee]%[Dd]%[Ss]%[Hh]%[Ii]%[Pp]%[Oo]%[Yy]%[Cc]%[Kk]%[Ll]%[Ee]%[Aa]%[Tt]%[Aa]%[Nn]' OR Name LIKE '%[A-Za-z]%[A-Za-z0-9]%[ ,.]%[Bb]%[Ll]%[Uu]%[Ee]%[Rr]%[Oo]%[Ww]%[Ee]%[Dd]%[Ss]%[Hh]%[Ii]%[Pp]%[Oo]%[Yy]%[Cc]%[Kk]%[Ll]%[Ee]%[Aa]%[Tt]%[Aa]%[Nn]' OR Name LIKE '%[A-Za-z]%[A-Za-z0-9]%[ ,.]%[Yy]%[Ee]%[Ll]%[Ll]%[Oo]%[Ww]%[Oo]%[Rr]%[Ee]%[Dd]%[Ss]%[Hh]%[Ii]%[Pp]%[Oo]%[Yy]%[Cc]%[Kk]%[Ll]%[Ee]%[Aa]%[Tt]%[Aa]%[Nn]';`;\n",
      "\n",
      "run_sql_query(sqlCode);\n",
      "```\n",
      "\n",
      "This query uses the LIKE operator to search for artist names containing the words \"Red\", \"Blue\", or \"Yellow\". The regular expression used in the query ensures that the color is not part of a larger word (e.g., \"Redmond\", \"Bluegrass\", \"Yellowstone\").\n",
      "\n",
      "After running the query, the result will be a list of artist names containing a color in their name.\n",
      "\n"
     ]
    }
   ],
   "source": [
    "response = get_response('List all artist that have a color in their name')"
   ]
  },
  {
   "cell_type": "code",
   "execution_count": 45,
   "id": "4f4dfb26-24cb-4f42-a7af-4fa2c65759ef",
   "metadata": {
    "colab": {
     "base_uri": "https://localhost:8080/"
    },
    "id": "4f4dfb26-24cb-4f42-a7af-4fa2c65759ef",
    "outputId": "ad293500-8589-4605-b20d-c2de42f8cad1"
   },
   "outputs": [
    {
     "name": "stdout",
     "output_type": "stream",
     "text": [
      "User: Who are our top Customers according to Invoices?\n",
      "\n",
      "Assistant: To find the top customers according to invoices, I will first get the schema of the Customer and Invoice tables. Then, I will join these tables on the CustomerID column and group the results by CustomerID to count the number of invoices for each customer. Finally, I will order the results in descending order by the count of invoices to find the top customers.\n",
      "\n",
      "Here is the SQL query I will run:\n",
      "\n",
      "```sql\n",
      "SELECT Customer.CustomerName, COUNT(Invoice.InvoiceID) as InvoiceCount\n",
      "FROM Customer\n",
      "JOIN Invoice ON Customer.CustomerID = Invoice.CustomerID\n",
      "GROUP BY Customer.CustomerID\n",
      "ORDER BY InvoiceCount DESC\n",
      "LIMIT 10;\n",
      "```\n",
      "\n",
      "I will use the \"run_sql_query\" function to run this query on the Chinook database:\n",
      "\n",
      "```\n",
      "[{\"name\": \"run_sql_query\", \"arguments\": {\"sql_code\": \"SELECT Customer.CustomerName, COUNT(Invoice.InvoiceID) as InvoiceCount FROM Customer JOIN Invoice ON Customer.CustomerID = Invoice.CustomerID GROUP BY Customer.CustomerID ORDER BY InvoiceCount DESC LIMIT 10;\"}}]\n",
      "```\n",
      "\n",
      "After running the query, I will present the top 10 customers according to the number of invoices:\n",
      "\n",
      "```\n",
      "[{\"name\": \"print\", \"arguments\": {\"message\": \"Top 10 customers according to invoices:\"}}]\n",
      "[{\"name\": \"print\", \"arguments\": {\"message\": \"1. CustomerName: [customer_name_1], InvoiceCount: [invoice_count_1]\"}}]\n",
      "[{\"name\": \"print\", \"arguments\": {\"message\": \"2. CustomerName: [customer_name_2], InvoiceCount: [invoice_count_2]\"}}]\n",
      "...\n",
      "[{\"name\": \"print\", \"arguments\": {\"message\": \"10. CustomerName: [customer_name_10], InvoiceCount: [invoice_count_10]\"}}]\n",
      "```\n",
      "\n"
     ]
    }
   ],
   "source": [
    "response = get_response('Who are our top Customers according to Invoices?')"
   ]
  },
  {
   "cell_type": "code",
   "execution_count": 46,
   "id": "115559d3-5a08-453e-a313-8e12958120a4",
   "metadata": {
    "id": "115559d3-5a08-453e-a313-8e12958120a4"
   },
   "outputs": [],
   "source": [
    "class CustomMistralLarge(DeepEvalBaseLLM):\n",
    "    def __init__(self, api_key):\n",
    "        self.client = Mistral(api_key=api_key)\n",
    "        self.model_name = \"mistral-large\"\n",
    "\n",
    "    def get_model_name(self):\n",
    "        return \"Mistral-tiny\"\n",
    "\n",
    "    def load_model(self):\n",
    "        # Since we are using the Mistral API, we don't need to load a model object.\n",
    "        return self.client\n",
    "\n",
    "    def generate(self, prompt: str) -> str:\n",
    "        chat_response = self.client.chat.complete(\n",
    "            model=self.model_name,\n",
    "            messages=[\n",
    "                {\n",
    "                    \"role\": \"user\",\n",
    "                    \"content\": prompt,\n",
    "                },\n",
    "            ]\n",
    "        )\n",
    "        return chat_response.choices[0].message.content\n",
    "\n",
    "    async def a_generate(self, prompt: str) -> str:\n",
    "        # Reusing the synchronous generate method for simplicity.\n",
    "        return self.generate(prompt)"
   ]
  },
  {
   "cell_type": "code",
   "execution_count": 1,
   "id": "8bed9b48-ff27-44bb-85e7-12aec3ead6fb",
   "metadata": {
    "colab": {
     "base_uri": "https://localhost:8080/",
     "height": 1000
    },
    "id": "8bed9b48-ff27-44bb-85e7-12aec3ead6fb",
    "outputId": "ca11ed4f-5d28-47fe-b681-f19e995a4f16"
   },
   "outputs": [],
   "source": [
    "# Specify questions\n",
    "questions = [\n",
    "    \"Which Employee has the Highest Total Number of Customers?\",\n",
    "    \"Who are our top Customers according to Invoices?\",\n",
    "    \"How many Rock music listeners are there?\",\n",
    "    \"What artists have written most rock music songs?\",\n",
    "    \"Which artist has earned the most according to the Invoice Lines? How much is it?\",\n",
    "    \"How many tracks have a song length greater than the average song length?\",\n",
    "    \"What is the most popular genre for Australia?\"\n",
    "]\n",
    "\n",
    "# Specify associated answers\n",
    "golden_answers = [\n",
    "    \"Peacock Jane has the most customers (she has 21 customers)\",\n",
    "    \"Helena Holy, Richard Cunningham, Luis Rojas, Ladislav Kovacs, and Hugh O’Reilly are the top five customers who have spent the highest amount of money according to the invoice\",\n",
    "    \"We found out that all 59 customers in the database have listened to Rock Music.\",\n",
    "    \"Led Zeppelin tops the list of Artists who have written the most Rock Music with 114 songs followed Closely by U2 with 112 music.\",\n",
    "    \"The Artist who has earned the most according to the invoice lines is Iron Maiden with a total of $138.6.\",\n",
    "    \"Out of 3503 songs in the database, we found out that 494 of these songs have length more than the average music length of 393,599.21 milliseconds.\",\n",
    "    \"Rock is the most popular song for Australia\"\n",
    "\n",
    "]"
   ]
  },
  {
   "cell_type": "code",
   "execution_count": null,
   "id": "o4YUNyrKBKwJ",
   "metadata": {
    "id": "o4YUNyrKBKwJ"
   },
   "outputs": [],
   "source": []
  }
 ],
 "metadata": {
  "colab": {
   "provenance": []
  },
  "kernelspec": {
   "display_name": ".venv",
   "language": "python",
   "name": "python3"
  },
  "language_info": {
   "codemirror_mode": {
    "name": "ipython",
    "version": 3
   },
   "file_extension": ".py",
   "mimetype": "text/x-python",
   "name": "python",
   "nbconvert_exporter": "python",
   "pygments_lexer": "ipython3",
   "version": "3.13.7"
  }
 },
 "nbformat": 4,
 "nbformat_minor": 5
}
