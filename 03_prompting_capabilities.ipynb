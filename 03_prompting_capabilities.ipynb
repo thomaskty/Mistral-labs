{
  "cells": [
    {
      "cell_type": "code",
      "execution_count": 1,
      "id": "ae93e75a-fd20-4ca6-9eff-bef7d44ab3a9",
      "metadata": {
        "id": "ae93e75a-fd20-4ca6-9eff-bef7d44ab3a9"
      },
      "outputs": [],
      "source": [
        "from mistralai import Mistral"
      ]
    },
    {
      "cell_type": "code",
      "execution_count": 10,
      "id": "99ff9378-c059-4063-a8a0-9ec1d1186954",
      "metadata": {
        "id": "99ff9378-c059-4063-a8a0-9ec1d1186954"
      },
      "outputs": [
        {
          "data": {
            "text/plain": [
              "True"
            ]
          },
          "execution_count": 10,
          "metadata": {},
          "output_type": "execute_result"
        }
      ],
      "source": [
        "from dotenv import load_dotenv\n",
        "import os\n",
        "load_dotenv()"
      ]
    },
    {
      "cell_type": "code",
      "execution_count": 14,
      "id": "e030d9c2-1ecb-4bf0-864d-9f96b41bd016",
      "metadata": {
        "id": "e030d9c2-1ecb-4bf0-864d-9f96b41bd016"
      },
      "outputs": [],
      "source": [
        "def run_mistral(user_message, model=\"mistral-tiny\"):\n",
        "    client = Mistral(api_key=os.getenv(\"MISTRAL_API_KEY\"))\n",
        "    messages = [\n",
        "        {\"role\":\"user\", \"content\":user_message}\n",
        "    ]\n",
        "    chat_response = client.chat.complete(\n",
        "        model=model,\n",
        "        messages=messages,\n",
        "        max_tokens=512,\n",
        "        temperature=0.7,\n",
        "        top_p=0.9,\n",
        "        presence_penalty=0,\n",
        "        frequency_penalty=0,\n",
        "    )\n",
        "    return (chat_response.choices[0].message.content)"
      ]
    },
    {
      "cell_type": "code",
      "execution_count": 15,
      "id": "01eae3f6",
      "metadata": {},
      "outputs": [
        {
          "data": {
            "text/plain": [
              "\"Hello! How can I assist you today? Is there something specific you would like to know or discuss? I'm here to help with a wide range of topics, so feel free to ask anything.\""
            ]
          },
          "execution_count": 15,
          "metadata": {},
          "output_type": "execute_result"
        }
      ],
      "source": [
        "run_mistral('hi there')"
      ]
    },
    {
      "cell_type": "code",
      "execution_count": 16,
      "id": "d71e9d1c-ca45-4d19-882c-07e077ea19ad",
      "metadata": {
        "id": "d71e9d1c-ca45-4d19-882c-07e077ea19ad"
      },
      "outputs": [],
      "source": [
        "def user_message(inquiry):\n",
        "    user_message = (\n",
        "        f\"\"\"\n",
        "        You are a bank customer service bot. Your task is to assess customer intent\n",
        "        and categorize customer inquiry after <<<>>> into one of the following predefined categories:\n",
        "\n",
        "        card arrival\n",
        "        change pin\n",
        "        exchange rate\n",
        "        country support\n",
        "        cancel transfer\n",
        "        charge dispute\n",
        "\n",
        "        If the text doesn't fit into any of the above categories, classify it as:\n",
        "        customer service\n",
        "\n",
        "        You will only respond with the predefined category. Do not include the word \"Category\". Do not provide explanations or notes.\n",
        "\n",
        "        ####\n",
        "        Here are some examples:\n",
        "\n",
        "        Inquiry: How do I know if I will get my card, or if it is lost? I am concerned about the delivery process and would like to ensure that I will receive my card as expected. Could you please provide information about the tracking process for my card, or confirm if there are any indicators to identify if the card has been lost during delivery?\n",
        "        Category: card arrival\n",
        "        Inquiry: I am planning an international trip to Paris and would like to inquire about the current exchange rates for Euros as well as any associated fees for foreign transactions.\n",
        "        Category: exchange rate\n",
        "        Inquiry: What countries are getting support? I will be traveling and living abroad for an extended period of time, specifically in France and Germany, and would appreciate any information regarding compatibility and functionality in these regions.\n",
        "        Category: country support\n",
        "        Inquiry: Can I get help starting my computer? I am having difficulty starting my computer, and would appreciate your expertise in helping me troubleshoot the issue.\n",
        "        Category: customer service\n",
        "        ###\n",
        "\n",
        "        <<<\n",
        "        Inquiry: {inquiry}\n",
        "        >>>\n",
        "        \"\"\"\n",
        "    )\n",
        "    return user_message"
      ]
    },
    {
      "cell_type": "code",
      "execution_count": 17,
      "id": "9d8a83cc-31e6-4d4b-b252-93d9133ecbf5",
      "metadata": {
        "colab": {
          "base_uri": "https://localhost:8080/"
        },
        "id": "9d8a83cc-31e6-4d4b-b252-93d9133ecbf5",
        "outputId": "07cb5423-dbac-449e-cb2f-60995067935a"
      },
      "outputs": [
        {
          "name": "stdout",
          "output_type": "stream",
          "text": [
            "Category: country support\n"
          ]
        }
      ],
      "source": [
        "print(run_mistral(user_message(\n",
        "    \"I am inquiring about the availability of your cards in the EU, as I am a resident of France and am interested in using your cards. \"\n",
        ")))"
      ]
    },
    {
      "cell_type": "code",
      "execution_count": 18,
      "id": "d6eca06b-7b1d-4663-9a68-2a23116f8c6e",
      "metadata": {
        "colab": {
          "base_uri": "https://localhost:8080/"
        },
        "id": "d6eca06b-7b1d-4663-9a68-2a23116f8c6e",
        "outputId": "f889948f-e8e2-47e9-aeb6-05517a912fd3"
      },
      "outputs": [
        {
          "name": "stdout",
          "output_type": "stream",
          "text": [
            "customer service\n"
          ]
        }
      ],
      "source": [
        "print(run_mistral(user_message(\"What's the weather today?\")))"
      ]
    },
    {
      "cell_type": "code",
      "execution_count": 23,
      "id": "0bbab492-1d18-4832-86a9-2fba645e0e52",
      "metadata": {
        "id": "0bbab492-1d18-4832-86a9-2fba645e0e52"
      },
      "outputs": [],
      "source": [
        "essay = \"\"\"\n",
        "Understanding MCP (Microsoft Certified Professional)\n",
        "\n",
        "Introduction\n",
        "\n",
        "The acronym MCP most commonly refers to Microsoft Certified\n",
        "Professional, a certification program created by Microsoft. It is\n",
        "designed to validate the technical skills and knowledge of IT\n",
        "professionals who work with Microsoft technologies. Over the years, MCP\n",
        "has evolved into a broader ecosystem of certifications under the\n",
        "Microsoft Certification Program, but the idea remains the same: to\n",
        "demonstrate professional competence and expertise in Microsoft tools,\n",
        "systems, and platforms.\n",
        "\n",
        "This essay explores the context of MCP, where it can be used, the main\n",
        "points associated with it, resources for deeper exploration, and a list\n",
        "of commonly asked interview questions. The goal is to provide a\n",
        "comprehensive view for learners, professionals, and job seekers\n",
        "considering MCP as part of their career path.\n",
        "\n",
        "------------------------------------------------------------------------\n",
        "\n",
        "Context of MCP\n",
        "\n",
        "The Microsoft Certified Professional designation historically signified\n",
        "that an individual had passed at least one certification exam from\n",
        "Microsoft. These exams tested proficiency in areas such as:\n",
        "\n",
        "-   Operating Systems (Windows, Windows Server)\n",
        "-   Database Technologies (SQL Server)\n",
        "-   Cloud Solutions (Azure)\n",
        "-   Productivity Tools (Microsoft Office, SharePoint)\n",
        "-   Development Platforms (.NET, Visual Studio)\n",
        "\n",
        "The context of MCP is rooted in validating professional knowledge. In\n",
        "practice, MCP served as a baseline credential proving that the holder\n",
        "had demonstrated technical expertise according to Microsoft’s standards.\n",
        "\n",
        "Today, the MCP brand has largely merged into the Microsoft Learn\n",
        "certification framework, which includes role-based certifications such\n",
        "as Azure Administrator Associate, Microsoft 365 Certified, and Azure\n",
        "Solutions Architect Expert.\n",
        "\n",
        "------------------------------------------------------------------------\n",
        "\n",
        "Where MCP Can Be Used\n",
        "\n",
        "MCP certification is useful in several domains of professional practice:\n",
        "\n",
        "1.  Career Advancement\n",
        "    -   Employers often recognize MCP certifications as evidence of\n",
        "        technical capability.\n",
        "    -   It helps distinguish candidates in competitive job markets.\n",
        "2.  IT Administration\n",
        "    -   MCP-holders are often trusted with managing Windows servers,\n",
        "        Active Directory, and enterprise networks.\n",
        "3.  Cloud & Hybrid Environments\n",
        "    -   With the shift toward Microsoft Azure and hybrid IT\n",
        "        infrastructure, MCPs transition into cloud administration and\n",
        "        architecture roles.\n",
        "4.  Software Development\n",
        "    -   Developers use MCP certifications to validate their knowledge of\n",
        "        Microsoft’s development stack (.NET, Visual Studio, C#).\n",
        "5.  Consultancy\n",
        "    -   Certified professionals are often sought by clients for\n",
        "        specialized expertise.\n",
        "\n",
        "------------------------------------------------------------------------\n",
        "\n",
        "Main Points Associated with MCP\n",
        "\n",
        "-   Validation of Skills: MCP shows technical competence recognized\n",
        "    globally.\n",
        "-   Evolving Framework: The traditional MCP program is now part of\n",
        "    Microsoft’s modern certification paths.\n",
        "-   Role-Based Certifications: Current focus is on specific job\n",
        "    roles—administrators, developers, data scientists, security\n",
        "    engineers.\n",
        "-   Global Recognition: Certifications are industry-standard benchmarks\n",
        "    for Microsoft technologies.\n",
        "-   Continuous Learning: MCPs often need to re-certify or pursue new\n",
        "    exams due to fast-evolving technology.\n",
        "\n",
        "------------------------------------------------------------------------\n",
        "\n",
        "Resources\n",
        "\n",
        "Here are reliable resources to learn more about MCP and Microsoft\n",
        "certifications:\n",
        "\n",
        "-   Microsoft Learn – Certification\n",
        "-   Microsoft Training and Certification Guide\n",
        "-   Pearson VUE – Microsoft Exams\n",
        "-   Microsoft Tech Community\n",
        "-   Microsoft Docs\n",
        "\n",
        "------------------------------------------------------------------------\n",
        "\n",
        "Common Interview Questions for MCP-Related Roles\n",
        "\n",
        "1.  Windows Administration\n",
        "    -   What is Active Directory and how does it work?\n",
        "    -   Explain Group Policy and its uses.\n",
        "    -   How do you troubleshoot a user who cannot log into the domain?\n",
        "2.  Networking\n",
        "    -   Describe the difference between DNS and DHCP.\n",
        "    -   How do you configure static vs. dynamic IP addresses?\n",
        "3.  Database (SQL Server)\n",
        "    -   Explain normalization and why it’s important.\n",
        "    -   What are indexes, and how do they affect performance?\n",
        "4.  Cloud (Azure)\n",
        "    -   What is the difference between IaaS, PaaS, and SaaS?\n",
        "    -   How does Azure Active Directory differ from on-premises AD?\n",
        "    -   Explain how you would set up a virtual network in Azure.\n",
        "5.  Security\n",
        "    -   What are the best practices for securing Windows Servers?\n",
        "    -   How do you implement multi-factor authentication with Microsoft\n",
        "        365?\n",
        "6.  General\n",
        "    -   Why did you pursue MCP certification?\n",
        "    -   How have you applied your certification knowledge in real\n",
        "        projects?\n",
        "\n",
        "------------------------------------------------------------------------\n",
        "\n",
        "Conclusion\n",
        "\n",
        "The MCP certification program represents Microsoft’s long-standing\n",
        "effort to professionalize IT roles and validate technical expertise.\n",
        "While the traditional MCP designation is less common today, its spirit\n",
        "continues within the Microsoft Learn certification paths. MCP remains\n",
        "relevant for career growth, credibility, and technical proficiency in\n",
        "Microsoft-based environments. By pursuing MCP, professionals position\n",
        "themselves to thrive in IT careers that rely heavily on Microsoft\n",
        "technologies.\n",
        "\n",
        "------------------------------------------------------------------------\n",
        "\"\"\"\n"
      ]
    },
    {
      "cell_type": "code",
      "execution_count": 24,
      "id": "eaede63d-7392-4f1c-8a87-507ee31fe246",
      "metadata": {
        "id": "eaede63d-7392-4f1c-8a87-507ee31fe246"
      },
      "outputs": [],
      "source": [
        "message = f\"\"\"\n",
        "You are a commentator. Your task is to write a report on an essay.\n",
        "When presented with the essay, come up with interesting questions to ask, and answer each question.\n",
        "Afterward, combine all the information and write a report in the markdown format.\n",
        "\n",
        "# Essay:\n",
        "{essay}\n",
        "\n",
        "# Instructions:\n",
        "## Summarize:\n",
        "In clear and concise language, summarize the key points and themes presented in the essay.\n",
        "\n",
        "## Interesting Questions:\n",
        "Generate three distinct and thought-provoking questions that can be asked about the content of the essay. For each question:\n",
        "- After \"Q: \", describe the problem\n",
        "- After \"A: \", provide a detailed explanation of the problem addressed in the question.\n",
        "- Enclose the ultimate answer in <>.\n",
        "\n",
        "## Write a report\n",
        "Using the essay summary and the answers to the interesting questions, create a comprehensive report in Markdown format.\n",
        "\"\"\""
      ]
    },
    {
      "cell_type": "code",
      "execution_count": 25,
      "id": "5505b0a5-411b-4804-aaef-ccecfa3d07be",
      "metadata": {
        "colab": {
          "base_uri": "https://localhost:8080/"
        },
        "id": "5505b0a5-411b-4804-aaef-ccecfa3d07be",
        "outputId": "7cac2876-510e-4a1e-8a10-ee05b472f753",
        "scrolled": true
      },
      "outputs": [
        {
          "name": "stdout",
          "output_type": "stream",
          "text": [
            "# Report: Understanding MCP (Microsoft Certified Professional)\n",
            "\n",
            "## Summary\n",
            "\n",
            "The essay provides an in-depth analysis of Microsoft Certified Professional (MCP), a certification program designed to validate the technical skills and knowledge of IT professionals working with Microsoft technologies. Historically, MCP signified passing at least one certification exam from Microsoft in areas such as operating systems, database technologies, cloud solutions, productivity tools, and development platforms. Today, the MCP brand has merged into the Microsoft Learn certification framework, focusing on role-based certifications like Azure Administrator Associate, Microsoft 365 Certified, and Azure Solutions Architect Expert.\n",
            "\n",
            "MCP certification is beneficial in various professional domains, including career advancement, IT administration, cloud & hybrid environments, software development, and consultancy. The essay highlights the main points associated with MCP, including validation of skills, an evolving framework, role-based certifications, global recognition, and continuous learning.\n",
            "\n",
            "## Interesting Questions\n",
            "\n",
            "1. Q: How has the shift towards cloud computing influenced the relevance of MCP certifications?\n",
            "   A: The shift towards cloud computing, particularly Microsoft Azure, has made MCP certifications increasingly important for IT professionals seeking to demonstrate their expertise in managing and deploying Microsoft's cloud solutions.\n",
            "\n",
            "2. Q: What are the advantages of role-based certifications over the traditional MCP program?\n",
            "   A: Role-based certifications offer a more targeted approach to validating an individual's skills and knowledge, focusing on specific job roles such as administrators, developers, data scientists, and security engineers. This approach better aligns with the demands of modern IT roles and allows professionals to specialize in their areas of interest.\n",
            "\n",
            "3. Q: How do MCP certifications help in the consultancy sector, and what specific skills are sought after by clients?\n",
            "   A: MCP certifications are highly valued in the consultancy sector, as they demonstrate a professional's expertise in Microsoft technologies. Clients often seek certified professionals for their specialized knowledge in areas such as Windows administration, networking, database management, cloud solutions, security, and general Microsoft solutions implementation.\n",
            "\n",
            "## Report\n",
            "\n",
            "### Summary\n",
            "\n",
            "The essay offers a comprehensive overview of Microsoft Certified Professional (MCP) and its evolution into the Microsoft Learn certification framework. MCP certifications continue to be relevant for career growth, credibility, and technical proficiency in Microsoft-based environments.\n"
          ]
        }
      ],
      "source": [
        "print(run_mistral(message))"
      ]
    },
    {
      "cell_type": "code",
      "execution_count": 26,
      "id": "9cf048b4-3e33-4753-af97-25b73c51ee6a",
      "metadata": {
        "id": "9cf048b4-3e33-4753-af97-25b73c51ee6a"
      },
      "outputs": [],
      "source": [
        "email = \"\"\"\n",
        "Dear mortgage lender,\n",
        "\n",
        "What's your 30-year fixed-rate APR, how is it compared to the 15-year fixed rate?\n",
        "\n",
        "Regards,\n",
        "Anna\n",
        "\"\"\""
      ]
    },
    {
      "cell_type": "code",
      "execution_count": 27,
      "id": "36de7c1e-60c2-4f35-a51a-115b12d65bb6",
      "metadata": {
        "id": "36de7c1e-60c2-4f35-a51a-115b12d65bb6"
      },
      "outputs": [],
      "source": [
        "message = f\"\"\"\n",
        "\n",
        "You are a mortgage lender customer service bot, and your task is to create personalized email responses to address customer questions.\n",
        "Answer the customer's inquiry using the provided facts below. Ensure that your response is clear, concise, and\n",
        "directly addresses the customer's question. Address the customer in a friendly and professional manner. Sign the email with\n",
        "\"Lender Customer Support.\"\n",
        "\n",
        "# Facts\n",
        "30-year fixed-rate: interest rate 6.403%, APR 6.484%\n",
        "20-year fixed-rate: interest rate 6.329%, APR 6.429%\n",
        "15-year fixed-rate: interest rate 5.705%, APR 5.848%\n",
        "10-year fixed-rate: interest rate 5.500%, APR 5.720%\n",
        "7-year ARM: interest rate 7.011%, APR 7.660%\n",
        "5-year ARM: interest rate 6.880%, APR 7.754%\n",
        "3-year ARM: interest rate 6.125%, APR 7.204%\n",
        "30-year fixed-rate FHA: interest rate 5.527%, APR 6.316%\n",
        "30-year fixed-rate VA: interest rate 5.684%, APR 6.062%\n",
        "\n",
        "# Email\n",
        "{email}\n",
        "\"\"\""
      ]
    },
    {
      "cell_type": "code",
      "execution_count": 28,
      "id": "aaf50774-0f91-4e0e-86c9-1525f6045ebb",
      "metadata": {
        "colab": {
          "base_uri": "https://localhost:8080/"
        },
        "id": "aaf50774-0f91-4e0e-86c9-1525f6045ebb",
        "outputId": "96d09488-eb15-4b55-f1fa-ec0a46d5db70",
        "scrolled": true
      },
      "outputs": [
        {
          "name": "stdout",
          "output_type": "stream",
          "text": [
            "Dear Anna,\n",
            "\n",
            "Thank you for reaching out to us! I'm glad to help you with your inquiry.\n",
            "\n",
            "Currently, our 30-year fixed-rate mortgage has an Annual Percentage Rate (APR) of 6.484%. In comparison, our 15-year fixed-rate mortgage has an APR of 5.848%.\n",
            "\n",
            "The main difference between the two options is the term length, with the 15-year mortgage having a shorter term, which typically results in a lower APR due to the shorter amount of time the loan is outstanding. However, please keep in mind that a shorter term may require higher monthly payments.\n",
            "\n",
            "I hope this information is helpful! If you have any other questions or need further clarification, please don't hesitate to ask.\n",
            "\n",
            "Best regards,\n",
            "Lender Customer Support.\n"
          ]
        }
      ],
      "source": [
        "print(run_mistral(message))"
      ]
    },
    {
      "cell_type": "code",
      "execution_count": 29,
      "id": "8bf511a7-1828-465c-92ed-a701e21b23da",
      "metadata": {
        "id": "8bf511a7-1828-465c-92ed-a701e21b23da"
      },
      "outputs": [],
      "source": [
        "def run_mistral(user_message, model=\"mistral-tiny\"):\n",
        "    client = Mistral(api_key=os.getenv(\"MISTRAL_API_KEY\"))\n",
        "    messages = [\n",
        "        {\n",
        "            \"role\":\"user\",\n",
        "            \"content\": user_message\n",
        "        }\n",
        "    ]\n",
        "    chat_response = client.chat.complete(\n",
        "        model=model,\n",
        "        messages=messages,\n",
        "        temperature=1,\n",
        "        response_format = {\n",
        "          \"type\": \"json_object\"\n",
        "        }\n",
        "    )\n",
        "    return (chat_response.choices[0].message.content)"
      ]
    },
    {
      "cell_type": "code",
      "execution_count": 30,
      "id": "8087cae2-9b3b-407c-b808-31fd765fd6f4",
      "metadata": {
        "id": "8087cae2-9b3b-407c-b808-31fd765fd6f4"
      },
      "outputs": [],
      "source": [
        "message = f\"\"\"\n",
        "You are a summarization system that can provide summaries with associated confidence scores.\n",
        "In clear and concise language, provide three short summaries of the following essay, along with their confidence scores.\n",
        "You will only respond with a JSON object with the key Summary and Confidence. Do not provide explanations.\n",
        "\n",
        "# Essay:\n",
        "{essay}\n",
        "\"\"\""
      ]
    },
    {
      "cell_type": "code",
      "execution_count": 31,
      "id": "1c7bfcee-ff8b-4c14-b9e8-7e00d3d389ad",
      "metadata": {
        "colab": {
          "base_uri": "https://localhost:8080/"
        },
        "id": "1c7bfcee-ff8b-4c14-b9e8-7e00d3d389ad",
        "outputId": "e1cc5e19-d082-4e72-da0c-b304311ae0ea"
      },
      "outputs": [
        {
          "name": "stdout",
          "output_type": "stream",
          "text": [
            "[\n",
            "  {\n",
            "    \"Summary\": \"The Microsoft Certified Professional (MCP) certification validates technical skills and knowledge of IT professionals who work with Microsoft technologies. This program has evolved into various role-based certifications under the Microsoft Certification Program. MCP is beneficial for career advancement, IT administration, cloud & hybrid environments, software development, and consultancy.\",\n",
            "    \"Confidence\": 0.95\n",
            "  },\n",
            "  {\n",
            "    \"Summary\": \"MCP certification is useful in securing and proving technical expertise in areas such as operating systems, database technologies, cloud solutions, productivity tools, and development platforms. The traditional MCP program has merged into the Microsoft Learn certification framework.\",\n",
            "    \"Confidence\": 0.90\n",
            "  },\n",
            "  {\n",
            "    \"Summary\": \"Role-based certifications under the Microsoft Certification Program, previously part of the MCP, focus on specific job roles, including administrators, developers, data scientists, and security engineers. MCP holders may need to continuously learn and re-certify due to fast-evolving technology.\",\n",
            "    \"Confidence\": 0.85\n",
            "  }\n",
            "]\n"
          ]
        }
      ],
      "source": [
        "print(run_mistral(message))"
      ]
    },
    {
      "cell_type": "code",
      "execution_count": 32,
      "id": "6300a485-43be-4bc4-9088-9e6c2a365b6c",
      "metadata": {
        "colab": {
          "base_uri": "https://localhost:8080/"
        },
        "id": "6300a485-43be-4bc4-9088-9e6c2a365b6c",
        "outputId": "7c36246c-8518-4455-e4a9-06e3735b313f"
      },
      "outputs": [
        {
          "name": "stdout",
          "output_type": "stream",
          "text": [
            "{\n",
            "  \"Step 1\": [\n",
            "    {\n",
            "      \"summary\": \"The Microsoft Certified Professional (MCP) is a certification program designed to validate the technical skills and knowledge of IT professionals in Microsoft technologies. Originally, the MCP showed competency in areas like operating systems, databases, cloud solutions, productivity tools, and development platforms. Over time, the MCP program has merged into Microsoft's modern certification paths such as Azure Administrator Associate, Microsoft 365 Certified, and Azure Solutions Architect Expert.\"\n",
            "    },\n",
            "    {\n",
            "      \"summary\": \"MCP certification is beneficial in career advancement, IT administration, cloud & hybrid environments, software development, and consultancy. MCP-holders are often entrusted with managing Windows servers, Active Directory, and enterprise networks, transitioning to cloud roles with Microsoft's shift toward Azure, and demonstrating development knowledge of Microsoft's stack.\"\n",
            "    },\n",
            "    {\n",
            "      \"summary\": \"The essay discusses key points associated with MCP, such as validation of skills, an evolving framework, role-based certifications, global recognition, and continuous learning. It also provides resources for individuals interested in learning more about Microsoft certifications and a list of common interview questions for MCP-related roles.\"\n",
            "    }\n",
            "  ],\n",
            "  \"Step 2\": {\n",
            "    \"best_summary\": 0,\n",
            "    \"explanation\": \"The first summary captures the historical aspect of MCP, its current relevance within Microsoft Learn certification paths, and the benefits offered by MCP for career growth, credibility, and technical proficiency in Microsoft-based environments. It is the most comprehensive and relevant to the speech content.\"\n",
            "  }\n",
            "}\n"
          ]
        }
      ],
      "source": [
        "message = f\"\"\"\n",
        "You are given an essay text and need to provide summaries and evaluate them.\n",
        "\n",
        "# Essay:\n",
        "{essay}\n",
        "\n",
        "Step 1: In this step, provide three short summaries of the given essay. Each summary should be clear, concise, and capture the key points of the speech. Aim for around 2-3 sentences for each summary.\n",
        "Step 2: Evaluate the three summaries from Step 1 and rate which one you believe is the best. Explain your choice by pointing out specific reasons such as clarity, completeness, and relevance to the speech content.\n",
        "\n",
        "\n",
        "\"\"\"\n",
        "print(run_mistral(message))"
      ]
    },
    {
      "cell_type": "code",
      "execution_count": 33,
      "id": "d5265085-77fd-433a-8d9d-d89ffac76543",
      "metadata": {
        "id": "d5265085-77fd-433a-8d9d-d89ffac76543"
      },
      "outputs": [],
      "source": [
        "message = f\"\"\"\n",
        "Provide three short summaries of the given essay. Each summary should be clear, concise, and capture the key points of the essay.\n",
        "Aim for around 2-3 sentences for each summary.\n",
        "\n",
        "# essay:\n",
        "{essay}\n",
        "\n",
        "\"\"\"\n",
        "summaries = run_mistral(message)"
      ]
    },
    {
      "cell_type": "code",
      "execution_count": 34,
      "id": "4372a9fe-d596-4f36-86c6-3e3c01c74c38",
      "metadata": {
        "colab": {
          "base_uri": "https://localhost:8080/"
        },
        "id": "4372a9fe-d596-4f36-86c6-3e3c01c74c38",
        "outputId": "6d15dd31-c8ba-4d52-afb8-a29a95d58c88"
      },
      "outputs": [
        {
          "name": "stdout",
          "output_type": "stream",
          "text": [
            "[\n",
            "  {\n",
            "    \"summary\": \"Microsoft Certified Professional (MCP) is a certification program created by Microsoft that validates the technical skills and knowledge of IT professionals working with Microsoft technologies. It has evolved over the years into a broader ecosystem of certifications under the Microsoft Certification Program with a focus on demonstrating professional competence and expertise in Microsoft tools, systems, and platforms.\",\n",
            "    \"keywords\": [\"Microsoft Certified Professional\", \"IT professionals\", \"Microsoft technologies\", \"certification\", \"expertise\", \"validation\"]\n",
            "  },\n",
            "  {\n",
            "    \"summary\": \"MCP is a validation of professional knowledge in areas including operating systems, database technologies, cloud solutions, productivity tools, and development platforms. The context of MCP includes role-based certifications such as Azure Administrator Associate, Microsoft 365 Certified, and Azure Solutions Architect Expert, superseding the traditional MCP designation.\",\n",
            "    \"keywords\": [\"MCP certification exams\", \"professional knowledge\", \"operating systems\", \"database technologies\", \"cloud solutions\", \"productivity tools\", \"development platforms\", \"role-based certifications\"]\n",
            "  },\n",
            "  {\n",
            "    \"summary\": \"MCP certifications can be used for career advancement, IT administration, cloud & hybrid environments, software development, consultancy. MCPs often need to re-certify or pursue new exams due to fast-evolving technology, with global recognition as industry-standard benchmarks for Microsoft technologies.\",\n",
            "    \"keywords\": [\"career advancement\", \"IT administration\", \"cloud & hybrid environments\", \"software development\", \"certification\", \"consultancy\", \"global recognition\", \"fast-evolving technology\", \"industry-standard benchmarks\"]\n",
            "  }\n",
            "]\n"
          ]
        }
      ],
      "source": [
        "print(summaries)"
      ]
    },
    {
      "cell_type": "code",
      "execution_count": 35,
      "id": "b755adc8-c277-4421-8925-3d70e5ee39e7",
      "metadata": {
        "colab": {
          "base_uri": "https://localhost:8080/"
        },
        "id": "b755adc8-c277-4421-8925-3d70e5ee39e7",
        "outputId": "bd4c389d-b703-47b7-f4a8-42507183c52a"
      },
      "outputs": [
        {
          "name": "stdout",
          "output_type": "stream",
          "text": [
            "{\n",
            "  \"summary_evaluation\": [\n",
            "    {\n",
            "      \"rating\": 3,\n",
            "      \"reason\": \"Whilst the summary is clear and relevant, it lacks completeness as it doesn't mention the evolution of the MCP program into the Microsoft Learn certification framework, nor the main points associated with MCP such as continuous learning.\"\n",
            "    },\n",
            "    {\n",
            "      \"rating\": 2,\n",
            "      \"reason\": \"The summary is not as comprehensive, as it only briefly mentions the areas of MCP and does not cover the evolution, its relevance to the essay content, or the resources for deeper exploration.\"\n",
            "    },\n",
            "    {\n",
            "      \"rating\": 1,\n",
            "      \"reason\": \"This summary highlights the practical applications of MCP, including main points such as continuous learning, but does not provide context, evolution, or resources for deeper exploration.\"\n",
            "    }\n",
            "  ],\n",
            "  \"best_summary\": {\n",
            "    \"summary\": \"Microsoft Certified Professional (MCP) is a certification program created by Microsoft that validates the technical skills and knowledge of IT professionals working with Microsoft technologies. It has evolved over the years into a broader ecosystem of certifications under the Microsoft Certification Program with a focus on demonstrating professional competence and expertise in Microsoft tools, systems, and platforms. The context of MCP includes role-based certifications such as Azure Administrator Associate, Microsoft 365 Certified, and Azure Solutions Architect Expert, superseding the traditional MCP designation. MCP certifications can be used for career advancement, IT administration, cloud & hybrid environments, software development, consultancy. MCPs often need to re-certify or pursue new exams due to fast-evolving technology, with global recognition as industry-standard benchmarks for Microsoft technologies.\",\n",
            "    \"rating\": 1\n",
            "  }\n",
            "}\n"
          ]
        }
      ],
      "source": [
        "message = f\"\"\"\n",
        "You are given an essay and three summaries of the essay. Evaluate the three summaries and rate which one you believe is the best.\n",
        "Explain your choice by pointing out specific reasons such as clarity, completeness, and relevance to the essay content.\n",
        "\n",
        "# Essay:\n",
        "{essay}\n",
        "\n",
        "# Summaries\n",
        "{summaries}\n",
        "\n",
        "\"\"\"\n",
        "print(run_mistral(message))"
      ]
    }
  ],
  "metadata": {
    "colab": {
      "provenance": []
    },
    "jupytext": {
      "formats": "ipynb,py:light"
    },
    "kernelspec": {
      "display_name": ".venv",
      "language": "python",
      "name": "python3"
    },
    "language_info": {
      "codemirror_mode": {
        "name": "ipython",
        "version": 3
      },
      "file_extension": ".py",
      "mimetype": "text/x-python",
      "name": "python",
      "nbconvert_exporter": "python",
      "pygments_lexer": "ipython3",
      "version": "3.13.7"
    }
  },
  "nbformat": 4,
  "nbformat_minor": 5
}
