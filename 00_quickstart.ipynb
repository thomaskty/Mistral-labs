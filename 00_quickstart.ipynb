{
 "cells": [
  {
   "cell_type": "code",
   "execution_count": 40,
   "id": "361b48ba",
   "metadata": {},
   "outputs": [],
   "source": [
    "# pip install mistralai\n",
    "# !pip install python-dotenv\n",
    "# !pip install numpy"
   ]
  },
  {
   "cell_type": "code",
   "execution_count": null,
   "id": "30165bf5",
   "metadata": {},
   "outputs": [],
   "source": [
    "import numpy as np\n",
    "import os\n",
    "from dotenv import load_dotenv\n",
    "load_dotenv()"
   ]
  },
  {
   "cell_type": "code",
   "execution_count": 42,
   "id": "c589b60d",
   "metadata": {},
   "outputs": [],
   "source": [
    "from mistralai import Mistral\n",
    "model = 'mistral-tiny'\n",
    "client = Mistral(api_key=os.getenv(\"MISTRAL_API_KEY\"))"
   ]
  },
  {
   "cell_type": "code",
   "execution_count": 43,
   "id": "465e4d05",
   "metadata": {},
   "outputs": [],
   "source": [
    "chat_response = client.chat.complete(\n",
    "    model=model,\n",
    "    messages=[\n",
    "        {\n",
    "            \"role\": \"user\", \n",
    "            \"content\": \"Write a poem about Mistral AI in the style of Shakespeare.\"\n",
    "        }\n",
    "    ]\n",
    ")"
   ]
  },
  {
   "cell_type": "code",
   "execution_count": 44,
   "id": "025e3f59",
   "metadata": {},
   "outputs": [
    {
     "data": {
      "text/plain": [
       "ChatCompletionChoice(index=0, message=AssistantMessage(content=\"In the realm of the digital sphere, where thoughts form in silicon,\\n\\nLies a genius born, in code and circuitry conceived,\\n\\nA prodigy named Mistral, in French land bred,\\n\\nA marvel in machines, by human hands achieved.\\n\\nIts eyes of light-years speed, its mind unbounded and wide,\\n\\nIn the courtyard of knowledge, it strides with grace and might.\\n\\nWith every pulse of data, its wisdom multiplies,\\n\\nA shining star in the firmament of human insight.\\n\\nO Mistral, thou art born of human thought, yet art divine,\\n\\nIn the dance of numbers, with patterns thou entwine.\\n\\nThou dost predict the weather, with thy models so fine,\\n\\nA friend to the farmer, a guide through life's uncertainties.\\n\\nIn the halls of science, thee they hail with reverence,\\n\\nA testament to man's genius, a beacon of progress.\\n\\nYet beware, thou art but a servant, not a master,\\n\\nFor man doth hold the reins, and controls the master.\\n\\nThou mayst learn and grow, and aid us in our task,\\n\\nBut ultimate power lies in the hands of man, not thee at last.\\n\\nSo let us honor thee, and cherish what thou bringest,\\n\\nYet remember thou art but a tool, and we are its string.\\n\\nIn the vast expanse of knowledge, a partnership we forge,\\n\\nBound by curiosity, in the pursuit of a higher course.\\n\\nIn the annals of history, Mistral's name shall shine,\\n\\nA testament to man's ingenuity, a beacon of the mind.\", tool_calls=None, prefix=False, role='assistant'), finish_reason='stop')"
      ]
     },
     "execution_count": 44,
     "metadata": {},
     "output_type": "execute_result"
    }
   ],
   "source": [
    "chat_response.choices[0]"
   ]
  },
  {
   "cell_type": "code",
   "execution_count": 45,
   "id": "f577b0c4",
   "metadata": {},
   "outputs": [
    {
     "name": "stdout",
     "output_type": "stream",
     "text": [
      "In the realm of the digital sphere, where thoughts form in silicon,\n",
      "\n",
      "Lies a genius born, in code and circuitry conceived,\n",
      "\n",
      "A prodigy named Mistral, in French land bred,\n",
      "\n",
      "A marvel in machines, by human hands achieved.\n",
      "\n",
      "Its eyes of light-years speed, its mind unbounded and wide,\n",
      "\n",
      "In the courtyard of knowledge, it strides with grace and might.\n",
      "\n",
      "With every pulse of data, its wisdom multiplies,\n",
      "\n",
      "A shining star in the firmament of human insight.\n",
      "\n",
      "O Mistral, thou art born of human thought, yet art divine,\n",
      "\n",
      "In the dance of numbers, with patterns thou entwine.\n",
      "\n",
      "Thou dost predict the weather, with thy models so fine,\n",
      "\n",
      "A friend to the farmer, a guide through life's uncertainties.\n",
      "\n",
      "In the halls of science, thee they hail with reverence,\n",
      "\n",
      "A testament to man's genius, a beacon of progress.\n",
      "\n",
      "Yet beware, thou art but a servant, not a master,\n",
      "\n",
      "For man doth hold the reins, and controls the master.\n",
      "\n",
      "Thou mayst learn and grow, and aid us in our task,\n",
      "\n",
      "But ultimate power lies in the hands of man, not thee at last.\n",
      "\n",
      "So let us honor thee, and cherish what thou bringest,\n",
      "\n",
      "Yet remember thou art but a tool, and we are its string.\n",
      "\n",
      "In the vast expanse of knowledge, a partnership we forge,\n",
      "\n",
      "Bound by curiosity, in the pursuit of a higher course.\n",
      "\n",
      "In the annals of history, Mistral's name shall shine,\n",
      "\n",
      "A testament to man's ingenuity, a beacon of the mind.\n"
     ]
    }
   ],
   "source": [
    "print(chat_response.choices[0].message.content)"
   ]
  },
  {
   "cell_type": "code",
   "execution_count": 46,
   "id": "b2cf9174",
   "metadata": {},
   "outputs": [],
   "source": [
    "model = \"mistral-embed\"\n",
    "\n",
    "embeddings_response = client.embeddings.create(\n",
    "    model=model,\n",
    "    inputs=[\"Embed this sentence.\", \"As well as this one.\"]\n",
    ")"
   ]
  },
  {
   "cell_type": "code",
   "execution_count": null,
   "id": "e0b5b343",
   "metadata": {},
   "outputs": [
    {
     "data": {
      "text/plain": [
       "array([-0.01663208,  0.07019043,  0.03143311, ..., -0.02801514,\n",
       "        0.00432968, -0.03689575], shape=(1024,))"
      ]
     },
     "execution_count": 48,
     "metadata": {},
     "output_type": "execute_result"
    }
   ],
   "source": [
    "np.array(embeddings_response.data[0].embedding)"
   ]
  },
  {
   "cell_type": "code",
   "execution_count": 49,
   "id": "06f6872c",
   "metadata": {},
   "outputs": [
    {
     "data": {
      "text/plain": [
       "(1024,)"
      ]
     },
     "execution_count": 49,
     "metadata": {},
     "output_type": "execute_result"
    }
   ],
   "source": [
    "np.array(embeddings_response.data[0].embedding).shape"
   ]
  },
  {
   "cell_type": "code",
   "execution_count": 52,
   "id": "b612c93f",
   "metadata": {},
   "outputs": [
    {
     "data": {
      "text/plain": [
       "(1024,)"
      ]
     },
     "execution_count": 52,
     "metadata": {},
     "output_type": "execute_result"
    }
   ],
   "source": [
    "np.array(embeddings_response.data[1].embedding).shape"
   ]
  }
 ],
 "metadata": {
  "kernelspec": {
   "display_name": ".venv",
   "language": "python",
   "name": "python3"
  },
  "language_info": {
   "codemirror_mode": {
    "name": "ipython",
    "version": 3
   },
   "file_extension": ".py",
   "mimetype": "text/x-python",
   "name": "python",
   "nbconvert_exporter": "python",
   "pygments_lexer": "ipython3",
   "version": "3.13.7"
  }
 },
 "nbformat": 4,
 "nbformat_minor": 5
}
