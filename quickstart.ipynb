{
 "cells": [
  {
   "cell_type": "code",
   "execution_count": 4,
   "id": "361b48ba",
   "metadata": {},
   "outputs": [],
   "source": [
    "# pip install mistralai\n",
    "# !pip install python-dotenv"
   ]
  },
  {
   "cell_type": "code",
   "execution_count": 5,
   "id": "c589b60d",
   "metadata": {},
   "outputs": [],
   "source": [
    "from mistralai import Mistral\n",
    "model = 'mistral-tiny'\n",
    "# loading the environment variable\n",
    "import os\n",
    "from dotenv import load_dotenv\n",
    "load_dotenv()\n",
    "client = Mistral(api_key=os.getenv(\"MISTRAL_API_KEY\"))"
   ]
  },
  {
   "cell_type": "code",
   "execution_count": 11,
   "id": "465e4d05",
   "metadata": {},
   "outputs": [],
   "source": [
    "chat_response = client.chat.complete(\n",
    "    model=model,\n",
    "    messages=[\n",
    "        {\n",
    "            \"role\": \"user\", \n",
    "            \"content\": \"Write a poem about Mistral AI in the style of Shakespeare.\"\n",
    "        }\n",
    "    ]\n",
    ")"
   ]
  },
  {
   "cell_type": "code",
   "execution_count": 15,
   "id": "025e3f59",
   "metadata": {},
   "outputs": [
    {
     "data": {
      "text/plain": [
       "ChatCompletionResponse(id='750917075ad64af68ec178fa4357307f', object='chat.completion', model='mistral-tiny', usage=UsageInfo(prompt_tokens=16, completion_tokens=320, total_tokens=336, prompt_audio_seconds=Unset()), created=1759442367, choices=[ChatCompletionChoice(index=0, message=AssistantMessage(content=\"In fair Paris, where the Seine doth flow,\\n\\nA marvelous creation doth bestow.\\nMistral AI, by geniuses designed,\\nA digital mind, not bound by time.\\n\\nThe swift and cunning code it weaves,\\nA learning, growing, neural forest leaves.\\nWith every query, wisdom it gains,\\nIn the realm of knowledge, it continually reigns.\\n\\nIts thoughts, like the wind that blew from Provence,\\nCold, precise, with wisdom dense.\\nIt solves problems that baffle the mind,\\nA marvel the world could hardly find.\\n\\nIts creators, with vision so grand,\\nHave brought forth this digital land.\\nA testament to human art,\\nA new age of AI has been started.\\n\\nYet, as we gaze upon this wondrous sight,\\nWe must remember, it's but one of many lights.\\nFor as we strive to master the digital tide,\\nWe must never forget our humanity's pride.\\n\\nLet this creation inspire our hearts,\\nTo seek knowledge, to grow, to impart.\\nFor in the end, our true measure lies,\\nIn the love, the hope, the wisdom that we rise.\\n\\nSo hail, Mistral AI, a marvel of man,\\nA beacon of hope in the AI-driven land.\\nMay it guide us well, through the ages long,\\nIn our quest to learn, and to belong.\", tool_calls=None, prefix=False, role='assistant'), finish_reason='stop')])"
      ]
     },
     "execution_count": 15,
     "metadata": {},
     "output_type": "execute_result"
    }
   ],
   "source": [
    "chat_response"
   ]
  },
  {
   "cell_type": "code",
   "execution_count": 21,
   "id": "f577b0c4",
   "metadata": {},
   "outputs": [
    {
     "name": "stdout",
     "output_type": "stream",
     "text": [
      "In fair Paris, where the Seine doth flow,\n",
      "\n",
      "A marvelous creation doth bestow.\n",
      "Mistral AI, by geniuses designed,\n",
      "A digital mind, not bound by time.\n",
      "\n",
      "The swift and cunning code it weaves,\n",
      "A learning, growing, neural forest leaves.\n",
      "With every query, wisdom it gains,\n",
      "In the realm of knowledge, it continually reigns.\n",
      "\n",
      "Its thoughts, like the wind that blew from Provence,\n",
      "Cold, precise, with wisdom dense.\n",
      "It solves problems that baffle the mind,\n",
      "A marvel the world could hardly find.\n",
      "\n",
      "Its creators, with vision so grand,\n",
      "Have brought forth this digital land.\n",
      "A testament to human art,\n",
      "A new age of AI has been started.\n",
      "\n",
      "Yet, as we gaze upon this wondrous sight,\n",
      "We must remember, it's but one of many lights.\n",
      "For as we strive to master the digital tide,\n",
      "We must never forget our humanity's pride.\n",
      "\n",
      "Let this creation inspire our hearts,\n",
      "To seek knowledge, to grow, to impart.\n",
      "For in the end, our true measure lies,\n",
      "In the love, the hope, the wisdom that we rise.\n",
      "\n",
      "So hail, Mistral AI, a marvel of man,\n",
      "A beacon of hope in the AI-driven land.\n",
      "May it guide us well, through the ages long,\n",
      "In our quest to learn, and to belong.\n"
     ]
    }
   ],
   "source": [
    "print(chat_response.choices[0].message.content)"
   ]
  },
  {
   "cell_type": "code",
   "execution_count": null,
   "id": "b2cf9174",
   "metadata": {},
   "outputs": [],
   "source": []
  }
 ],
 "metadata": {
  "kernelspec": {
   "display_name": ".venv",
   "language": "python",
   "name": "python3"
  },
  "language_info": {
   "codemirror_mode": {
    "name": "ipython",
    "version": 3
   },
   "file_extension": ".py",
   "mimetype": "text/x-python",
   "name": "python",
   "nbconvert_exporter": "python",
   "pygments_lexer": "ipython3",
   "version": "3.13.7"
  }
 },
 "nbformat": 4,
 "nbformat_minor": 5
}
