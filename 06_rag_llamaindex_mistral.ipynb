{
 "cells": [
  {
   "cell_type": "code",
   "execution_count": 1,
   "id": "22d5af38",
   "metadata": {},
   "outputs": [],
   "source": [
    "# %pip install llama-index llama-index-llms-mistralai llama-index-embeddings-mistralai"
   ]
  },
  {
   "cell_type": "code",
   "execution_count": 3,
   "id": "0ae4f260",
   "metadata": {},
   "outputs": [
    {
     "name": "stderr",
     "output_type": "stream",
     "text": [
      "2025-10-05 02:35:50,364 - INFO - HTTP Request: POST https://api.mistral.ai/v1/embeddings \"HTTP/1.1 200 OK\"\n",
      "2025-10-05 02:35:51,124 - INFO - HTTP Request: POST https://api.mistral.ai/v1/embeddings \"HTTP/1.1 200 OK\"\n",
      "2025-10-05 02:35:51,428 - INFO - HTTP Request: POST https://api.mistral.ai/v1/embeddings \"HTTP/1.1 200 OK\"\n",
      "2025-10-05 02:35:51,719 - INFO - HTTP Request: POST https://api.mistral.ai/v1/embeddings \"HTTP/1.1 200 OK\"\n",
      "2025-10-05 02:35:52,424 - INFO - HTTP Request: POST https://api.mistral.ai/v1/chat/completions \"HTTP/1.1 200 OK\"\n"
     ]
    },
    {
     "name": "stdout",
     "output_type": "stream",
     "text": [
      "The two main things the author worked on before college were writing and programming.\n"
     ]
    }
   ],
   "source": [
    "import os\n",
    "from llama_index.core import Settings, SimpleDirectoryReader, VectorStoreIndex\n",
    "from llama_index.llms.mistralai import MistralAI\n",
    "from llama_index.embeddings.mistralai import MistralAIEmbedding\n",
    "\n",
    "api_key = os.getenv(\"MISTRAL_API_KEY\")\n",
    "# Load data\n",
    "reader = SimpleDirectoryReader(input_files=[\"sample_data/paul_graham_essay.txt\"])\n",
    "documents = reader.load_data()\n",
    "# Define LLM and embedding model\n",
    "Settings.llm = MistralAI(model=\"mistral-small-2506\", api_key=api_key)\n",
    "Settings.embed_model = MistralAIEmbedding(model_name='mistral-embed', api_key=api_key)\n",
    "# Create vector store index\n",
    "index = VectorStoreIndex.from_documents(documents)\n",
    "# Create query engine\n",
    "query_engine = index.as_query_engine(similarity_top_k=2)\n",
    "response = query_engine.query(\n",
    "    \"What were the two main things the author worked on before college?\"\n",
    ")\n",
    "print(str(response))"
   ]
  },
  {
   "cell_type": "code",
   "execution_count": null,
   "id": "b55578e3",
   "metadata": {},
   "outputs": [],
   "source": []
  }
 ],
 "metadata": {
  "kernelspec": {
   "display_name": ".venv",
   "language": "python",
   "name": "python3"
  },
  "language_info": {
   "codemirror_mode": {
    "name": "ipython",
    "version": 3
   },
   "file_extension": ".py",
   "mimetype": "text/x-python",
   "name": "python",
   "nbconvert_exporter": "python",
   "pygments_lexer": "ipython3",
   "version": "3.13.7"
  }
 },
 "nbformat": 4,
 "nbformat_minor": 5
}
